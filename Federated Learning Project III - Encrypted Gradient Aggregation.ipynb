{
 "cells": [
  {
   "cell_type": "markdown",
   "metadata": {},
   "source": [
    "# Classifying Fashion-MNIST with Virtual Workers and Encrypted Models"
   ]
  },
  {
   "cell_type": "code",
   "execution_count": 1,
   "metadata": {},
   "outputs": [],
   "source": [
    "import torch\n",
    "from torchvision import datasets, transforms\n",
    "\n",
    "# Define a transform to normalize the data\n",
    "transform = transforms.Compose([transforms.ToTensor(),\n",
    "                                transforms.Normalize((0.5,), (0.5,))])\n",
    "# Download and load the training data\n",
    "trainset = datasets.FashionMNIST('~/.pytorch/F_MNIST_data/', download=True, train=True, transform=transform)\n",
    "trainloader = torch.utils.data.DataLoader(trainset, batch_size=512, shuffle=True)\n",
    "\n",
    "# Download and load the test data\n",
    "testset = datasets.FashionMNIST('~/.pytorch/F_MNIST_data/', download=True, train=False, transform=transform)\n",
    "testloader = torch.utils.data.DataLoader(testset, batch_size=1024, shuffle=True)"
   ]
  },
  {
   "cell_type": "markdown",
   "metadata": {},
   "source": [
    "Here we can see one of the images."
   ]
  },
  {
   "cell_type": "code",
   "execution_count": 3,
   "metadata": {},
   "outputs": [
    {
     "data": {
      "image/png": "[encoded data removed]",
      "text/plain": [
       "<Figure size 432x288 with 1 Axes>"
      ]
     },
     "metadata": {
      "needs_background": "light"
     },
     "output_type": "display_data"
    }
   ],
   "source": [
    "from matplotlib import pyplot as plt\n",
    "\n",
    "image, label = next(iter(trainloader))\n",
    "plt.imshow(image[0].view([28,28]))\n",
    "plt.show()"
   ]
  },
  {
   "cell_type": "markdown",
   "metadata": {},
   "source": [
    "## Building the network\n",
    "\n",
    "Here you should define your network. As with MNIST, each image is 28x28 which is a total of 784 pixels, and there are 10 classes. You should include at least one hidden layer. We suggest you use ReLU activations for the layers and to return the logits or log-softmax from the forward pass. It's up to you how many layers you add and the size of those layers."
   ]
  },
  {
   "cell_type": "code",
   "execution_count": 4,
   "metadata": {},
   "outputs": [],
   "source": [
    "from torch import nn, optim\n",
    "import torch.nn.functional as F\n",
    "\n",
    "class Network(nn.Module):\n",
    "    def __init__(self):\n",
    "        super().__init__()\n",
    "        self.h1 = nn.Linear(784, 256)\n",
    "        self.h2 = nn.Linear(256, 128)\n",
    "        self.h3 = nn.Linear(128, 64)\n",
    "        self.out = nn.Linear(64, 10)\n",
    "        self.relu = nn.ReLU()\n",
    "        self.logsoftmax = nn.LogSoftmax(dim=1)\n",
    "        \n",
    "    def forward(self, x):\n",
    "        x = x.view(x.shape[0], -1)\n",
    "        x = self.h1(x)\n",
    "        x = self.relu(x)\n",
    "        x = self.h2(x)\n",
    "        x = self.relu(x)\n",
    "\n",
    "        x = self.h3(x)\n",
    "        x = self.relu(x)\n",
    "\n",
    "        x = self.out(x)\n",
    "        x = self.logsoftmax(x)\n",
    "        return x"
   ]
  },
  {
   "cell_type": "markdown",
   "metadata": {},
   "source": [
    "## Training"
   ]
  },
  {
   "cell_type": "code",
   "execution_count": 5,
   "metadata": {},
   "outputs": [],
   "source": [
    "# Importing syft, torch and hooking torch\n",
    "import syft as sy, torch as th\n",
    "hook = sy.TorchHook(th)"
   ]
  },
  {
   "cell_type": "code",
   "execution_count": 6,
   "metadata": {},
   "outputs": [],
   "source": [
    "workers_dict = {}\n",
    "\n",
    "i = 0\n",
    "for images, labels in trainloader:\n",
    "    worker_name = 'W{}'.format(i)\n",
    "    workers_dict[worker_name] = {}\n",
    "    workers_dict[worker_name]['worker'] = sy.VirtualWorker(hook, id=worker_name)\n",
    "    workers_dict[worker_name]['images'] = images.send(workers_dict[worker_name]['worker'])\n",
    "    workers_dict[worker_name]['labels'] = labels.send(workers_dict[worker_name]['worker'])\n",
    "    i+=1\n",
    "    if i>40: break"
   ]
  },
  {
   "cell_type": "code",
   "execution_count": 7,
   "metadata": {},
   "outputs": [],
   "source": [
    "# # This is not needed because virtual workers already have all other virtual workers added\n",
    "\n",
    "# for worker in workers_dict.values():\n",
    "#     worker['worker'].add_workers([\n",
    "#         w['worker'] for w in workers_dict.values() if w['worker'].id != worker['worker'].id])"
   ]
  },
  {
   "cell_type": "code",
   "execution_count": 8,
   "metadata": {},
   "outputs": [],
   "source": [
    "model = Network()\n",
    "criterion = nn.NLLLoss()\n",
    "optmizer = optim.SGD(model.parameters(), lr=0.01)\n",
    "# secure_worker = sy.VirtualWorker(hook, id='secure_worker')"
   ]
  },
  {
   "cell_type": "code",
   "execution_count": 9,
   "metadata": {},
   "outputs": [],
   "source": [
    "# copying model to each worker\n",
    "for worker in workers_dict.values():\n",
    "    worker['model'] = model.copy().send(worker['worker'])\n",
    "    worker['optmizer'] = optim.SGD(model.parameters(), lr=0.01)"
   ]
  },
  {
   "cell_type": "code",
   "execution_count": 11,
   "metadata": {
    "scrolled": true
   },
   "outputs": [
    {
     "name": "stdout",
     "output_type": "stream",
     "text": [
      "Epoch 1\n",
      "epoch_loss: nan\n",
      "Epoch 2\n",
      "epoch_loss: nan\n",
      "Epoch 3\n",
      "epoch_loss: nan\n"
     ]
    }
   ],
   "source": [
    "epoch = 3\n",
    "i = 0\n",
    "n_sharing_workers = 10\n",
    "epoch_loss = 0    \n",
    "\n",
    "for e in range(epoch):\n",
    "    epoch_loss = 0    \n",
    "    recent_workers = []\n",
    "    \n",
    "    print('Epoch {}'.format(e+1))\n",
    "\n",
    "    # training each workers' models\n",
    "    for worker in workers_dict.values():\n",
    "        \n",
    "        output = worker['model'](worker['images'])\n",
    "        worker['optmizer'].zero_grad()\n",
    "        loss = criterion(output, worker['labels'])\n",
    "        loss.backward()\n",
    "        worker['optmizer'].step()\n",
    "\n",
    "        epoch_loss += loss.get().item()\n",
    "        recent_workers.append(worker)\n",
    "        i+=1        \n",
    "\n",
    "    # fixed precision\n",
    "    # yet to be implemented\n",
    "\n",
    "    # sharing recently trained models between workers    \n",
    "        if i%n_sharing_workers == 0:        \n",
    "            for rw in recent_workers:\n",
    "                rw['model'] = rw['model'].share(*[w['worker'] for w in recent_workers])\n",
    "\n",
    "    # averaging models\n",
    "\n",
    "            h1_weights = th.stack([w['model'].h1.weight.clone().get() for w in recent_workers]).float().mean(0)\n",
    "            h1_bias = th.stack([w['model'].h1.bias.clone().get() for w in recent_workers]).float().mean(0)\n",
    "\n",
    "            h2_weights = th.stack([w['model'].h2.weight.clone().get() for w in recent_workers]).float().mean(0)\n",
    "            h2_bias = th.stack([w['model'].h2.bias.clone().get() for w in recent_workers]).float().mean(0)\n",
    "\n",
    "            h3_weights = th.stack([w['model'].h3.weight.clone().get() for w in recent_workers]).float().mean(0)\n",
    "            h3_bias = th.stack([w['model'].h3.bias.clone().get() for w in recent_workers]).float().mean(0)\n",
    "\n",
    "            out_weights = th.stack([w['model'].out.weight.clone().get() for w in recent_workers]).float().mean(0)\n",
    "            out_bias = th.stack([w['model'].out.bias.clone().get() for w in recent_workers]).float().mean(0)\n",
    "\n",
    "            recent_workers = []\n",
    "\n",
    "\n",
    "    # updating main model\n",
    "        \n",
    "            with th.no_grad():\n",
    "                model.h1.weight.set_(h1_weights.get())\n",
    "                model.h1.bias.set_(h1_bias.get())\n",
    "                model.h2.weight.set_(h2_weights.get())\n",
    "                model.h2.bias.set_(h2_bias.get())\n",
    "                model.h3.weight.set_(h3_weights.get())\n",
    "                model.h3.bias.set_(h3_bias.get())\n",
    "                model.out.weight.set_(out_weights.get())\n",
    "                model.out.bias.set_(out_bias.get())\n",
    "\n",
    "    # copying updated model to virtual workers\n",
    "            for worker in workers_dict.values():\n",
    "                worker['model'] = model.copy().send(worker['worker'])    \n",
    "            \n",
    "    print('epoch_loss: {}'.format(epoch_loss))"
   ]
  },
  {
   "cell_type": "markdown",
   "metadata": {},
   "source": [
    "## Testing"
   ]
  },
  {
   "cell_type": "code",
   "execution_count": 46,
   "metadata": {},
   "outputs": [
    {
     "name": "stdout",
     "output_type": "stream",
     "text": [
      "Label: 5\n",
      "Predicted: 0\n"
     ]
    }
   ],
   "source": [
    "%matplotlib inline\n",
    "%config InlineBackend.figure_format = 'retina'\n",
    "\n",
    "dataiter = iter(testloader)\n",
    "images, labels = dataiter.next()\n",
    "img = images[0]\n",
    "label = labels[0]\n",
    "\n",
    "# plt.imshow(img.view([28,28]))\n",
    "\n",
    "# Convert 2D image to 1D vector\n",
    "img = img.resize_(1, 784)\n",
    "\n",
    "ps = torch.exp(model(img))\n",
    "predicted = ps.argmax().item()\n",
    "\n",
    "print('Label: {}'.format(label))\n",
    "print('Predicted: {}'.format(predicted))\n",
    "# plt.show()"
   ]
  },
  {
   "cell_type": "code",
   "execution_count": null,
   "metadata": {},
   "outputs": [],
   "source": [
    "# images, labels = next(iter(testloader))\n",
    "# (model(images).argmax(1) == labels).double().mean().item()"
   ]
  }
 ],
 "metadata": {
  "kernelspec": {
   "display_name": "Python 3",
   "language": "python",
   "name": "python3"
  },
  "language_info": {
   "codemirror_mode": {
    "name": "ipython",
    "version": 3
   },
   "file_extension": ".py",
   "mimetype": "text/x-python",
   "name": "python",
   "nbconvert_exporter": "python",
   "pygments_lexer": "ipython3",
   "version": "3.7.1"
  }
 },
 "nbformat": 4,
 "nbformat_minor": 2
}
