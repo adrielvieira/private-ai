{
 "cells": [
  {
   "cell_type": "markdown",
   "metadata": {},
   "source": [
    "# Classifying Fashion-MNIST with Virtual Workers and Encrypted Models"
   ]
  },
  {
   "cell_type": "code",
   "execution_count": 1,
   "metadata": {},
   "outputs": [],
   "source": [
    "import torch\n",
    "from torchvision import datasets, transforms\n",
    "\n",
    "# Define a transform to normalize the data\n",
    "transform = transforms.Compose([transforms.ToTensor(),\n",
    "                                transforms.Normalize((0.5,), (0.5,))])\n",
    "# Download and load the training data\n",
    "trainset = datasets.FashionMNIST('~/.pytorch/F_MNIST_data/', download=True, train=True, transform=transform)\n",
    "trainloader = torch.utils.data.DataLoader(trainset, batch_size=512, shuffle=True)\n",
    "\n",
    "# Download and load the test data\n",
    "testset = datasets.FashionMNIST('~/.pytorch/F_MNIST_data/', download=True, train=False, transform=transform)\n",
    "testloader = torch.utils.data.DataLoader(testset, batch_size=1024, shuffle=True)"
   ]
  },
  {
   "cell_type": "markdown",
   "metadata": {},
   "source": [
    "Here we can see one of the images."
   ]
  },
  {
   "cell_type": "code",
   "execution_count": 3,
   "metadata": {},
   "outputs": [
    {
     "data": {
      "image/png": "[encoded data removed]",
      "text/plain": [
       "<Figure size 432x288 with 1 Axes>"
      ]
     },
     "metadata": {
      "needs_background": "light"
     },
     "output_type": "display_data"
    }
   ],
   "source": [
    "from matplotlib import pyplot as plt\n",
    "\n",
    "image, label = next(iter(trainloader))\n",
    "plt.imshow(image[0].view([28,28]))\n",
    "plt.show()"
   ]
  },
  {
   "cell_type": "markdown",
   "metadata": {},
   "source": [
    "## Building the network\n",
    "\n",
    "Here you should define your network. As with MNIST, each image is 28x28 which is a total of 784 pixels, and there are 10 classes. You should include at least one hidden layer. We suggest you use ReLU activations for the layers and to return the logits or log-softmax from the forward pass. It's up to you how many layers you add and the size of those layers."
   ]
  },
  {
   "cell_type": "code",
   "execution_count": 4,
   "metadata": {},
   "outputs": [],
   "source": [
    "from torch import nn, optim\n",
    "import torch.nn.functional as F\n",
    "\n",
    "class Network(nn.Module):\n",
    "    def __init__(self):\n",
    "        super().__init__()\n",
    "        self.h1 = nn.Linear(784, 256)\n",
    "        self.h2 = nn.Linear(256, 128)\n",
    "        self.h3 = nn.Linear(128, 64)\n",
    "        self.out = nn.Linear(64, 10)\n",
    "        self.relu = nn.ReLU()\n",
    "        self.logsoftmax = nn.LogSoftmax(dim=1)\n",
    "        \n",
    "    def forward(self, x):\n",
    "        x = x.view(x.shape[0], -1)\n",
    "        x = self.h1(x)\n",
    "        x = self.relu(x)\n",
    "        x = self.h2(x)\n",
    "        x = self.relu(x)\n",
    "\n",
    "        x = self.h3(x)\n",
    "        x = self.relu(x)\n",
    "\n",
    "        x = self.out(x)\n",
    "        x = self.logsoftmax(x)\n",
    "        return x"
   ]
  },
  {
   "cell_type": "markdown",
   "metadata": {},
   "source": [
    "## Training"
   ]
  },
  {
   "cell_type": "code",
   "execution_count": 5,
   "metadata": {},
   "outputs": [],
   "source": [
    "# Importing syft, torch and hooking torch\n",
    "import syft as sy, torch as th\n",
    "hook = sy.TorchHook(th)"
   ]
  },
  {
   "cell_type": "code",
   "execution_count": 6,
   "metadata": {},
   "outputs": [],
   "source": [
    "workers_dict = {}\n",
    "\n",
    "i = 0\n",
    "for images, labels in trainloader:\n",
    "    worker_name = 'W{}'.format(i)\n",
    "    workers_dict[worker_name] = {}\n",
    "    workers_dict[worker_name]['worker'] = sy.VirtualWorker(hook, id=worker_name)\n",
    "    workers_dict[worker_name]['images'] = images.send(workers_dict[worker_name]['worker'])\n",
    "    workers_dict[worker_name]['labels'] = labels.send(workers_dict[worker_name]['worker'])\n",
    "    i+=1\n",
    "    if i>59: break"
   ]
  },
  {
   "cell_type": "code",
   "execution_count": 7,
   "metadata": {},
   "outputs": [],
   "source": [
    "# # This is not needed because virtual workers already have all other virtual workers added\n",
    "\n",
    "# for worker in workers_dict.values():\n",
    "#     worker['worker'].add_workers([\n",
    "#         w['worker'] for w in workers_dict.values() if w['worker'].id != worker['worker'].id])"
   ]
  },
  {
   "cell_type": "code",
   "execution_count": 8,
   "metadata": {},
   "outputs": [],
   "source": [
    "model = Network()\n",
    "criterion = nn.NLLLoss()\n",
    "optimizer = optim.SGD(model.parameters(), lr=0.01)\n",
    "# secure_worker = sy.VirtualWorker(hook, id='secure_worker')"
   ]
  },
  {
   "cell_type": "code",
   "execution_count": 9,
   "metadata": {},
   "outputs": [],
   "source": [
    "# copying model to each worker\n",
    "for worker in workers_dict.values():\n",
    "    worker['model'] = model.copy().send(worker['worker'])\n",
    "    worker['optimizer'] = optim.SGD(worker['model'].parameters(), lr=0.01)"
   ]
  },
  {
   "cell_type": "code",
   "execution_count": null,
   "metadata": {},
   "outputs": [
    {
     "name": "stdout",
     "output_type": "stream",
     "text": [
      "Epoch 1\n"
     ]
    }
   ],
   "source": [
    "epoch = 5\n",
    "i = 0\n",
    "epoch_loss = 0\n",
    "recent_workers = []\n",
    "\n",
    "for e in range(epoch):\n",
    "    epoch_loss = 0    \n",
    "    \n",
    "    print('Epoch {}'.format(e+1))\n",
    "\n",
    "    # training each workers' models\n",
    "    for worker in workers_dict.values():\n",
    "        \n",
    "        output = worker['model'](worker['images'])\n",
    "        worker['optimizer'].zero_grad()\n",
    "        loss = criterion(output, worker['labels'])\n",
    "        loss.backward()\n",
    "        worker['optimizer'].step()\n",
    "\n",
    "        epoch_loss += loss.get().item()\n",
    "        recent_workers.append(worker['worker'].id)\n",
    "\n",
    "        i+=1        \n",
    "        if i%2 == 0:\n",
    "            \n",
    "            w1 = recent_workers[0]\n",
    "            w2 = recent_workers[1]\n",
    "            \n",
    "            w1h1w = workers_dict[w1]['model'].h1.weight.data.fix_prec().get().share(workers_dict[w1]['worker'], workers_dict[w2]['worker'])\n",
    "            w1h1b = workers_dict[w1]['model'].h1.bias.data.fix_prec().get().share(workers_dict[w1]['worker'], workers_dict[w2]['worker'])\n",
    "            w1h2w = workers_dict[w1]['model'].h2.weight.data.fix_prec().get().share(workers_dict[w1]['worker'], workers_dict[w2]['worker'])\n",
    "            w1h2b = workers_dict[w1]['model'].h2.bias.data.fix_prec().get().share(workers_dict[w1]['worker'], workers_dict[w2]['worker'])\n",
    "            w1h3w = workers_dict[w1]['model'].h3.weight.data.fix_prec().get().share(workers_dict[w1]['worker'], workers_dict[w2]['worker'])\n",
    "            w1h3b = workers_dict[w1]['model'].h3.bias.data.fix_prec().get().share(workers_dict[w1]['worker'], workers_dict[w2]['worker'])\n",
    "            w1outw = workers_dict[w1]['model'].out.weight.data.fix_prec().get().share(workers_dict[w1]['worker'], workers_dict[w2]['worker'])\n",
    "            w1outb = workers_dict[w1]['model'].out.bias.data.fix_prec().get().share(workers_dict[w1]['worker'], workers_dict[w2]['worker'])\n",
    "\n",
    "            w2h1w = workers_dict[w2]['model'].h1.weight.data.fix_prec().get().share(workers_dict[w1]['worker'], workers_dict[w2]['worker'])\n",
    "            w2h1b = workers_dict[w2]['model'].h1.bias.data.fix_prec().get().share(workers_dict[w1]['worker'], workers_dict[w2]['worker'])\n",
    "            w2h2w = workers_dict[w2]['model'].h2.weight.data.fix_prec().get().share(workers_dict[w1]['worker'], workers_dict[w2]['worker'])\n",
    "            w2h2b = workers_dict[w2]['model'].h2.bias.data.fix_prec().get().share(workers_dict[w1]['worker'], workers_dict[w2]['worker'])\n",
    "            w2h3w = workers_dict[w2]['model'].h3.weight.data.fix_prec().get().share(workers_dict[w1]['worker'], workers_dict[w2]['worker'])\n",
    "            w2h3b = workers_dict[w2]['model'].h3.bias.data.fix_prec().get().share(workers_dict[w1]['worker'], workers_dict[w2]['worker'])\n",
    "            w2outw = workers_dict[w2]['model'].out.weight.data.fix_prec().get().share(workers_dict[w1]['worker'], workers_dict[w2]['worker'])\n",
    "            w2outb = workers_dict[w2]['model'].out.bias.data.fix_prec().get().share(workers_dict[w1]['worker'], workers_dict[w2]['worker'])\n",
    "\n",
    "            with th.no_grad():\n",
    "                \n",
    "                model.h1.weight.set_(((w1h1w + w2h1w)/2).get().float_prec())\n",
    "                model.h1.bias.set_(((w1h1b + w2h1b)/2).get().float_prec())\n",
    "                \n",
    "                model.h2.weight.set_(((w1h2w + w2h2w)/2).get().float_prec())\n",
    "                model.h2.bias.set_(((w1h2b + w2h2b)/2).get().float_prec())\n",
    "                \n",
    "                model.h3.weight.set_(((w1h3w + w2h3w)/2).get().float_prec())\n",
    "                model.h3.bias.set_(((w1h3b + w2h3b)/2).get().float_prec())\n",
    "                \n",
    "                model.out.weight.set_(((w1outw + w2outw)/2).get().float_prec())\n",
    "                model.out.bias.set_(((w1outb + w2outb)/2).get().float_prec())\n",
    "\n",
    "    # copying updated model to virtual workers\n",
    "            for worker in workers_dict.values():\n",
    "                worker['model'] = model.copy().send(worker['worker'])  \n",
    "                worker['optimizer'] = optim.SGD(worker['model'].parameters(), lr=0.01)\n",
    "\n",
    "            recent_workers = []\n",
    "\n",
    "            \n",
    "    print('epoch_loss: {}'.format(epoch_loss))"
   ]
  },
  {
   "cell_type": "code",
   "execution_count": 21,
   "metadata": {
    "scrolled": false
   },
   "outputs": [
    {
     "name": "stdout",
     "output_type": "stream",
     "text": [
      "Epoch 1\n",
      "epoch_loss: 23.041287660598755\n",
      "Epoch 2\n",
      "epoch_loss: 23.034284830093384\n",
      "Epoch 3\n",
      "epoch_loss: 23.027289867401123\n",
      "Epoch 4\n",
      "epoch_loss: 23.020321369171143\n",
      "Epoch 5\n",
      "epoch_loss: 23.013351917266846\n"
     ]
    }
   ],
   "source": [
    "epoch = 5\n",
    "i = 0\n",
    "n_sharing_workers = 2\n",
    "epoch_loss = 0\n",
    "\n",
    "for e in range(epoch):\n",
    "    epoch_loss = 0    \n",
    "    recent_workers = []\n",
    "    \n",
    "    print('Epoch {}'.format(e+1))\n",
    "\n",
    "    # training each workers' models\n",
    "    for worker in workers_dict.values():\n",
    "        \n",
    "        output = worker['model'](worker['images'])\n",
    "        worker['optimizer'].zero_grad()\n",
    "        loss = criterion(output, worker['labels'])\n",
    "        loss.backward()\n",
    "        worker['optimizer'].step()\n",
    "\n",
    "        epoch_loss += loss.get().item()\n",
    "        recent_workers.append(worker['worker'].id)\n",
    "        i+=1        \n",
    "\n",
    "        if i%n_sharing_workers == 0:        \n",
    "    # fixed precision\n",
    "            for rw in recent_workers:\n",
    "    # i'm bringing it to local to make the averaging work later\n",
    "                workers_dict[rw]['model'] = workers_dict[rw]['model'].get()\n",
    "                \n",
    "                workers_dict[rw]['model'].h1.weight.data = workers_dict[rw]['model'].h1.weight.data.fix_prec()\n",
    "                workers_dict[rw]['model'].h1.bias.data = workers_dict[rw]['model'].h1.bias.data.fix_prec()\n",
    "\n",
    "                workers_dict[rw]['model'].h2.weight.data = workers_dict[rw]['model'].h2.weight.data.fix_prec()\n",
    "                workers_dict[rw]['model'].h2.bias.data = workers_dict[rw]['model'].h2.bias.data.fix_prec()\n",
    "\n",
    "                workers_dict[rw]['model'].h3.weight.data = workers_dict[rw]['model'].h3.weight.data.fix_prec()\n",
    "                workers_dict[rw]['model'].h3.bias.data = workers_dict[rw]['model'].h3.bias.data.fix_prec()\n",
    "\n",
    "                workers_dict[rw]['model'].out.weight.data = workers_dict[rw]['model'].out.weight.data.fix_prec()\n",
    "                workers_dict[rw]['model'].out.bias.data = workers_dict[rw]['model'].out.bias.data.fix_prec()\n",
    "                \n",
    "#                 rw['model'].h1.weight.data = rw['model'].h1.weight.data.fix_prec()\n",
    "#                 rw['model'].h1.bias.data = rw['model'].h1.bias.data.fix_prec()\n",
    "\n",
    "#                 rw['model'].h2.weight.data = rw['model'].h2.weight.data.fix_prec()\n",
    "#                 rw['model'].h2.bias.data = rw['model'].h2.bias.data.fix_prec()\n",
    "\n",
    "#                 rw['model'].h3.weight.data = rw['model'].h3.weight.data.fix_prec()\n",
    "#                 rw['model'].h3.bias.data = rw['model'].h3.bias.data.fix_prec()\n",
    "\n",
    "#                 rw['model'].out.weight.data = rw['model'].out.weight.data.fix_prec()\n",
    "#                 rw['model'].out.bias.data = rw['model'].out.bias.data.fix_prec()\n",
    "                \n",
    "\n",
    "    # sharing recently trained models between workers    \n",
    "            for rw in recent_workers:\n",
    "#                 workers_dict[rw]['model'] = workers_dict[rw]['model'].share(*[workers_dict[w]['worker'] for w in recent_workers])\n",
    "                \n",
    "                workers_dict[rw]['model'].h1.weight.data = workers_dict[rw]['model'].h1.weight.share(*[workers_dict[w]['worker'] for w in recent_workers])\n",
    "                workers_dict[rw]['model'].h1.bias.data = workers_dict[rw]['model'].h1.bias.share(*[workers_dict[w]['worker'] for w in recent_workers])\n",
    "\n",
    "                workers_dict[rw]['model'].h2.weight.data = workers_dict[rw]['model'].h2.weight.share(*[workers_dict[w]['worker'] for w in recent_workers])\n",
    "                workers_dict[rw]['model'].h2.bias.data = workers_dict[rw]['model'].h2.bias.share(*[workers_dict[w]['worker'] for w in recent_workers])\n",
    "\n",
    "                workers_dict[rw]['model'].h3.weight.data = workers_dict[rw]['model'].h3.weight.share(*[workers_dict[w]['worker'] for w in recent_workers])\n",
    "                workers_dict[rw]['model'].h3.bias.data = workers_dict[rw]['model'].h3.bias.share(*[workers_dict[w]['worker'] for w in recent_workers])\n",
    "\n",
    "                workers_dict[rw]['model'].out.weight.data = workers_dict[rw]['model'].out.weight.share(*[workers_dict[w]['worker'] for w in recent_workers])\n",
    "                workers_dict[rw]['model'].out.bias.data = workers_dict[rw]['model'].out.bias.share(*[workers_dict[w]['worker'] for w in recent_workers])\n",
    "\n",
    "                \n",
    "\n",
    "    # averaging models\n",
    "            \n",
    "#             h1_weights = th.zeros_like(model.h1.weight).fix_prec().child\n",
    "#             for w in recent_workers:\n",
    "#                 h1_weights += 0\n",
    "                \n",
    "#             h1_weights = (recent_workers[0]['model'].h1.weight + recent_workers[1]['model'].h1.weight).float()/2\n",
    "#             h1_weights = h1_weights.get().float_prec()\n",
    "\n",
    "            h1_weights = ((workers_dict[recent_workers[0]]['model'].h1.weight + workers_dict[recent_workers[1]]['model'].h1.weight).float()/2).get().float_prec()\n",
    "            h1_bias = ((workers_dict[recent_workers[0]]['model'].h1.bias + workers_dict[recent_workers[1]]['model'].h1.bias).float()/2).get().float_prec()\n",
    "            h2_weights = ((workers_dict[recent_workers[0]]['model'].h2.weight + workers_dict[recent_workers[1]]['model'].h2.weight).float()/2).get().float_prec()\n",
    "            h2_bias = ((workers_dict[recent_workers[0]]['model'].h2.bias + workers_dict[recent_workers[1]]['model'].h2.bias).float()/2).get().float_prec()\n",
    "            h3_weights = ((workers_dict[recent_workers[0]]['model'].h3.weight + workers_dict[recent_workers[1]]['model'].h3.weight).float()/2).get().float_prec()\n",
    "            h3_bias = ((workers_dict[recent_workers[0]]['model'].h3.bias + workers_dict[recent_workers[1]]['model'].h3.bias).float()/2).get().float_prec()\n",
    "            out_weights = ((workers_dict[recent_workers[0]]['model'].out.weight + workers_dict[recent_workers[1]]['model'].out.weight).float()/2).get().float_prec()\n",
    "            out_bias = ((workers_dict[recent_workers[0]]['model'].out.bias + workers_dict[recent_workers[1]]['model'].out.bias).float()/2).get().float_prec()\n",
    "\n",
    "#             h1_weights = ((recent_workers[0]['model'].h1.weight + recent_workers[1]['model'].h1.weight).float()/2).get().float_prec()\n",
    "#             h1_bias = ((recent_workers[0]['model'].h1.bias + recent_workers[1]['model'].h1.bias).float()/2).get().float_prec()\n",
    "#             h2_weights = ((recent_workers[0]['model'].h2.weight + recent_workers[1]['model'].h2.weight).float()/2).get().float_prec()\n",
    "#             h2_bias = ((recent_workers[0]['model'].h2.bias + recent_workers[1]['model'].h2.bias).float()/2).get().float_prec()\n",
    "#             h3_weights = ((recent_workers[0]['model'].h3.weight + recent_workers[1]['model'].h3.weight).float()/2).get().float_prec()\n",
    "#             h3_bias = ((recent_workers[0]['model'].h3.bias + recent_workers[1]['model'].h3.bias).float()/2).get().float_prec()\n",
    "#             out_weights = ((recent_workers[0]['model'].out.weight + recent_workers[1]['model'].out.weight).float()/2).get().float_prec()\n",
    "#             out_bias = ((recent_workers[0]['model'].out.bias + recent_workers[1]['model'].out.bias).float()/2).get().float_prec()\n",
    "\n",
    "            \n",
    "            \n",
    "            \n",
    "            \n",
    "            \n",
    "            \n",
    "#             h1_weights = th.stack([w['model'].h1.weight for w in recent_workers]).float().mean(0).get().float_prec()\n",
    "#             h1_bias = th.stack([w['model'].h1.bias for w in recent_workers]).float().mean(0).get().float_prec()\n",
    "\n",
    "#             h2_weights = th.stack([w['model'].h2.weight for w in recent_workers]).float().mean(0).get().float_prec()\n",
    "#             h2_bias = th.stack([w['model'].h2.bias for w in recent_workers]).float().mean(0).get().float_prec()\n",
    "\n",
    "#             h3_weights = th.stack([w['model'].h3.weight for w in recent_workers]).float().mean(0).get().float_prec()\n",
    "#             h3_bias = th.stack([w['model'].h3.bias for w in recent_workers]).float().mean(0).get().float_prec()\n",
    "\n",
    "#             out_weights = th.stack([w['model'].out.weight for w in recent_workers]).float().mean(0).get().float_prec()\n",
    "#             out_bias = th.stack([w['model'].out.bias for w in recent_workers]).float().mean(0).get().float_prec()\n",
    "\n",
    "    # updating main model\n",
    "        \n",
    "            with th.no_grad():\n",
    "                \n",
    "                model.h1.weight.set_(h1_weights)\n",
    "                model.h1.bias.set_(h1_bias)\n",
    "                \n",
    "                model.h2.weight.set_(h2_weights)\n",
    "                model.h2.bias.set_(h2_bias)\n",
    "                \n",
    "                model.h3.weight.set_(h3_weights)\n",
    "                model.h3.bias.set_(h3_bias)\n",
    "                \n",
    "                model.out.weight.set_(out_weights)\n",
    "                model.out.bias.set_(out_bias)\n",
    "\n",
    "    # copying updated model to virtual workers\n",
    "            for worker in workers_dict.values():\n",
    "                worker['model'] = model.copy().send(worker['worker'])  \n",
    "                worker['optimizer'] = optim.SGD(worker['model'].parameters(), lr=0.01)\n",
    "\n",
    "            recent_workers = []\n",
    "\n",
    "            \n",
    "    print('epoch_loss: {}'.format(epoch_loss))"
   ]
  },
  {
   "cell_type": "markdown",
   "metadata": {},
   "source": [
    "## Testing"
   ]
  },
  {
   "cell_type": "code",
   "execution_count": 46,
   "metadata": {},
   "outputs": [
    {
     "name": "stdout",
     "output_type": "stream",
     "text": [
      "Label: 5\n",
      "Predicted: 0\n"
     ]
    }
   ],
   "source": [
    "%matplotlib inline\n",
    "%config InlineBackend.figure_format = 'retina'\n",
    "\n",
    "dataiter = iter(testloader)\n",
    "images, labels = dataiter.next()\n",
    "img = images[0]\n",
    "label = labels[0]\n",
    "\n",
    "# plt.imshow(img.view([28,28]))\n",
    "\n",
    "# Convert 2D image to 1D vector\n",
    "img = img.resize_(1, 784)\n",
    "\n",
    "ps = torch.exp(model(img))\n",
    "predicted = ps.argmax().item()\n",
    "\n",
    "print('Label: {}'.format(label))\n",
    "print('Predicted: {}'.format(predicted))\n",
    "# plt.show()"
   ]
  },
  {
   "cell_type": "code",
   "execution_count": null,
   "metadata": {},
   "outputs": [],
   "source": [
    "# images, labels = next(iter(testloader))\n",
    "# (model(images).argmax(1) == labels).double().mean().item()"
   ]
  }
 ],
 "metadata": {
  "kernelspec": {
   "display_name": "Python 3",
   "language": "python",
   "name": "python3"
  },
  "language_info": {
   "codemirror_mode": {
    "name": "ipython",
    "version": 3
   },
   "file_extension": ".py",
   "mimetype": "text/x-python",
   "name": "python",
   "nbconvert_exporter": "python",
   "pygments_lexer": "ipython3",
   "version": "3.7.1"
  }
 },
 "nbformat": 4,
 "nbformat_minor": 2
}
